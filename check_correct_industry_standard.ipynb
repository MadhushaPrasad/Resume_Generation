{
  "nbformat": 4,
  "nbformat_minor": 0,
  "metadata": {
    "colab": {
      "provenance": []
    },
    "kernelspec": {
      "name": "python3",
      "display_name": "Python 3"
    },
    "language_info": {
      "name": "python"
    }
  },
  "cells": [
    {
      "cell_type": "code",
      "source": [
        "import nltk\n",
        "from nltk.tokenize import word_tokenize\n",
        "from nltk.corpus import stopwords\n",
        "from sklearn.feature_extraction.text import TfidfVectorizer\n",
        "from sklearn.model_selection import train_test_split\n",
        "from sklearn.pipeline import Pipeline\n",
        "from sklearn.linear_model import LogisticRegression\n",
        "from sklearn.metrics import accuracy_score, confusion_matrix\n",
        "import seaborn as sns\n",
        "import matplotlib.pyplot as plt"
      ],
      "metadata": {
        "id": "cGuYdn31_Uln"
      },
      "execution_count": 1,
      "outputs": []
    },
    {
      "cell_type": "code",
      "source": [
        "# Download NLTK resources\n",
        "nltk.download('punkt')\n",
        "nltk.download('stopwords')"
      ],
      "metadata": {
        "colab": {
          "base_uri": "https://localhost:8080/"
        },
        "id": "FoSPApbp_YvF",
        "outputId": "492e89fa-4f30-4c0b-cc57-4d8352fd6214"
      },
      "execution_count": 2,
      "outputs": [
        {
          "output_type": "stream",
          "name": "stderr",
          "text": [
            "[nltk_data] Downloading package punkt to /root/nltk_data...\n",
            "[nltk_data]   Unzipping tokenizers/punkt.zip.\n",
            "[nltk_data] Downloading package stopwords to /root/nltk_data...\n",
            "[nltk_data]   Unzipping corpora/stopwords.zip.\n"
          ]
        },
        {
          "output_type": "execute_result",
          "data": {
            "text/plain": [
              "True"
            ]
          },
          "metadata": {},
          "execution_count": 2
        }
      ]
    },
    {
      "cell_type": "code",
      "source": [
        "# Labeled data\n",
        "labeled_data = [\n",
        "    {\"resume\": \"I am a software developer proficient in Java.\", \"industry\": \"software\"},\n",
        "    {\"resume\": \"Experienced in data analysis and machine learning algorithms.\", \"industry\": \"data\"},\n",
        "    {\"resume\": \"Web developer skilled in HTML, CSS, and JavaScript.\", \"industry\": \"web\"},\n",
        "    {\"resume\": \"Mobile app developer with expertise in Android and iOS platforms.\", \"industry\": \"mobile\"},\n",
        "    {\"resume\": \"Frontend developer experienced in React and Angular frameworks.\", \"industry\": \"frontend\"},\n",
        "    {\"resume\": \"Backend developer proficient in Node.js and Python Flask.\", \"industry\": \"backend\"},\n",
        "    {\"resume\": \"Experienced in DevOps practices including CI/CD pipelines and Docker.\", \"industry\": \"devops\"},\n",
        "    {\"resume\": \"UI/UX designer specializing in creating intuitive and visually appealing interfaces.\", \"industry\": \"uiux\"}\n",
        "]"
      ],
      "metadata": {
        "id": "8I_MaSca_a41"
      },
      "execution_count": 20,
      "outputs": []
    },
    {
      "cell_type": "code",
      "source": [
        "# Preprocess the labeled data\n",
        "stop_words = set(stopwords.words('english'))\n",
        "\n",
        "def preprocess_text(text):\n",
        "    tokens = word_tokenize(text)\n",
        "    tokens = [word.lower() for word in tokens if word.isalnum()]\n",
        "    tokens = [word for word in tokens if word not in stop_words]\n",
        "    return ' '.join(tokens)\n",
        "\n",
        "X = [preprocess_text(data[\"resume\"]) for data in labeled_data]\n",
        "y = [data[\"industry\"] for data in labeled_data]"
      ],
      "metadata": {
        "id": "7keEi_1y_est"
      },
      "execution_count": 4,
      "outputs": []
    },
    {
      "cell_type": "code",
      "execution_count": 5,
      "metadata": {
        "colab": {
          "base_uri": "https://localhost:8080/",
          "height": 126
        },
        "id": "ebQBDfEe_PoN",
        "outputId": "c31884d2-c971-40ab-ceff-15b5275e1f69"
      },
      "outputs": [
        {
          "output_type": "execute_result",
          "data": {
            "text/plain": [
              "Pipeline(steps=[('tfidf', TfidfVectorizer()), ('clf', LogisticRegression())])"
            ],
            "text/html": [
              "<style>#sk-container-id-1 {color: black;background-color: white;}#sk-container-id-1 pre{padding: 0;}#sk-container-id-1 div.sk-toggleable {background-color: white;}#sk-container-id-1 label.sk-toggleable__label {cursor: pointer;display: block;width: 100%;margin-bottom: 0;padding: 0.3em;box-sizing: border-box;text-align: center;}#sk-container-id-1 label.sk-toggleable__label-arrow:before {content: \"▸\";float: left;margin-right: 0.25em;color: #696969;}#sk-container-id-1 label.sk-toggleable__label-arrow:hover:before {color: black;}#sk-container-id-1 div.sk-estimator:hover label.sk-toggleable__label-arrow:before {color: black;}#sk-container-id-1 div.sk-toggleable__content {max-height: 0;max-width: 0;overflow: hidden;text-align: left;background-color: #f0f8ff;}#sk-container-id-1 div.sk-toggleable__content pre {margin: 0.2em;color: black;border-radius: 0.25em;background-color: #f0f8ff;}#sk-container-id-1 input.sk-toggleable__control:checked~div.sk-toggleable__content {max-height: 200px;max-width: 100%;overflow: auto;}#sk-container-id-1 input.sk-toggleable__control:checked~label.sk-toggleable__label-arrow:before {content: \"▾\";}#sk-container-id-1 div.sk-estimator input.sk-toggleable__control:checked~label.sk-toggleable__label {background-color: #d4ebff;}#sk-container-id-1 div.sk-label input.sk-toggleable__control:checked~label.sk-toggleable__label {background-color: #d4ebff;}#sk-container-id-1 input.sk-hidden--visually {border: 0;clip: rect(1px 1px 1px 1px);clip: rect(1px, 1px, 1px, 1px);height: 1px;margin: -1px;overflow: hidden;padding: 0;position: absolute;width: 1px;}#sk-container-id-1 div.sk-estimator {font-family: monospace;background-color: #f0f8ff;border: 1px dotted black;border-radius: 0.25em;box-sizing: border-box;margin-bottom: 0.5em;}#sk-container-id-1 div.sk-estimator:hover {background-color: #d4ebff;}#sk-container-id-1 div.sk-parallel-item::after {content: \"\";width: 100%;border-bottom: 1px solid gray;flex-grow: 1;}#sk-container-id-1 div.sk-label:hover label.sk-toggleable__label {background-color: #d4ebff;}#sk-container-id-1 div.sk-serial::before {content: \"\";position: absolute;border-left: 1px solid gray;box-sizing: border-box;top: 0;bottom: 0;left: 50%;z-index: 0;}#sk-container-id-1 div.sk-serial {display: flex;flex-direction: column;align-items: center;background-color: white;padding-right: 0.2em;padding-left: 0.2em;position: relative;}#sk-container-id-1 div.sk-item {position: relative;z-index: 1;}#sk-container-id-1 div.sk-parallel {display: flex;align-items: stretch;justify-content: center;background-color: white;position: relative;}#sk-container-id-1 div.sk-item::before, #sk-container-id-1 div.sk-parallel-item::before {content: \"\";position: absolute;border-left: 1px solid gray;box-sizing: border-box;top: 0;bottom: 0;left: 50%;z-index: -1;}#sk-container-id-1 div.sk-parallel-item {display: flex;flex-direction: column;z-index: 1;position: relative;background-color: white;}#sk-container-id-1 div.sk-parallel-item:first-child::after {align-self: flex-end;width: 50%;}#sk-container-id-1 div.sk-parallel-item:last-child::after {align-self: flex-start;width: 50%;}#sk-container-id-1 div.sk-parallel-item:only-child::after {width: 0;}#sk-container-id-1 div.sk-dashed-wrapped {border: 1px dashed gray;margin: 0 0.4em 0.5em 0.4em;box-sizing: border-box;padding-bottom: 0.4em;background-color: white;}#sk-container-id-1 div.sk-label label {font-family: monospace;font-weight: bold;display: inline-block;line-height: 1.2em;}#sk-container-id-1 div.sk-label-container {text-align: center;}#sk-container-id-1 div.sk-container {/* jupyter's `normalize.less` sets `[hidden] { display: none; }` but bootstrap.min.css set `[hidden] { display: none !important; }` so we also need the `!important` here to be able to override the default hidden behavior on the sphinx rendered scikit-learn.org. See: https://github.com/scikit-learn/scikit-learn/issues/21755 */display: inline-block !important;position: relative;}#sk-container-id-1 div.sk-text-repr-fallback {display: none;}</style><div id=\"sk-container-id-1\" class=\"sk-top-container\"><div class=\"sk-text-repr-fallback\"><pre>Pipeline(steps=[(&#x27;tfidf&#x27;, TfidfVectorizer()), (&#x27;clf&#x27;, LogisticRegression())])</pre><b>In a Jupyter environment, please rerun this cell to show the HTML representation or trust the notebook. <br />On GitHub, the HTML representation is unable to render, please try loading this page with nbviewer.org.</b></div><div class=\"sk-container\" hidden><div class=\"sk-item sk-dashed-wrapped\"><div class=\"sk-label-container\"><div class=\"sk-label sk-toggleable\"><input class=\"sk-toggleable__control sk-hidden--visually\" id=\"sk-estimator-id-1\" type=\"checkbox\" ><label for=\"sk-estimator-id-1\" class=\"sk-toggleable__label sk-toggleable__label-arrow\">Pipeline</label><div class=\"sk-toggleable__content\"><pre>Pipeline(steps=[(&#x27;tfidf&#x27;, TfidfVectorizer()), (&#x27;clf&#x27;, LogisticRegression())])</pre></div></div></div><div class=\"sk-serial\"><div class=\"sk-item\"><div class=\"sk-estimator sk-toggleable\"><input class=\"sk-toggleable__control sk-hidden--visually\" id=\"sk-estimator-id-2\" type=\"checkbox\" ><label for=\"sk-estimator-id-2\" class=\"sk-toggleable__label sk-toggleable__label-arrow\">TfidfVectorizer</label><div class=\"sk-toggleable__content\"><pre>TfidfVectorizer()</pre></div></div></div><div class=\"sk-item\"><div class=\"sk-estimator sk-toggleable\"><input class=\"sk-toggleable__control sk-hidden--visually\" id=\"sk-estimator-id-3\" type=\"checkbox\" ><label for=\"sk-estimator-id-3\" class=\"sk-toggleable__label sk-toggleable__label-arrow\">LogisticRegression</label><div class=\"sk-toggleable__content\"><pre>LogisticRegression()</pre></div></div></div></div></div></div></div>"
            ]
          },
          "metadata": {},
          "execution_count": 5
        }
      ],
      "source": [
        "# Split the data into training and testing sets\n",
        "X_train, X_test, y_train, y_test = train_test_split(X, y, test_size=0.2, random_state=42)\n",
        "\n",
        "# Train a supervised learning model\n",
        "pipeline = Pipeline([\n",
        "    ('tfidf', TfidfVectorizer()),\n",
        "    ('clf', LogisticRegression())\n",
        "])\n",
        "\n",
        "pipeline.fit(X_train, y_train)"
      ]
    },
    {
      "cell_type": "code",
      "source": [
        "# Evaluate the model\n",
        "y_pred = pipeline.predict(X_test)\n",
        "accuracy = accuracy_score(y_test, y_pred)\n",
        "print(\"Accuracy:\", accuracy)"
      ],
      "metadata": {
        "colab": {
          "base_uri": "https://localhost:8080/"
        },
        "id": "pkNKlONf_j79",
        "outputId": "d8957c16-5d3e-4137-c2e1-ade821e5be55"
      },
      "execution_count": 6,
      "outputs": [
        {
          "output_type": "stream",
          "name": "stdout",
          "text": [
            "Accuracy: 0.0\n"
          ]
        }
      ]
    },
    {
      "cell_type": "code",
      "source": [
        "# Visualize the confusion matrix\n",
        "labels = sorted(set(y))\n",
        "cm = confusion_matrix(y_test, y_pred, labels=labels)\n",
        "plt.figure(figsize=(8, 6))\n",
        "sns.heatmap(cm, annot=True, fmt=\"d\", cmap=\"Blues\", xticklabels=labels, yticklabels=labels)\n",
        "plt.xlabel(\"Predicted\")\n",
        "plt.ylabel(\"True\")\n",
        "plt.title(\"Confusion Matrix\")\n",
        "plt.show()"
      ],
      "metadata": {
        "colab": {
          "base_uri": "https://localhost:8080/",
          "height": 564
        },
        "id": "G5SKwv_b_oWy",
        "outputId": "33640cb2-e2f5-4d1d-9117-1ad898d0e5f2"
      },
      "execution_count": 7,
      "outputs": [
        {
          "output_type": "display_data",
          "data": {
            "text/plain": [
              "<Figure size 800x600 with 2 Axes>"
            ],
            "image/png": "[encoded data removed]"
          },
          "metadata": {}
        }
      ]
    },
    {
      "cell_type": "code",
      "source": [
        "def getPredicted_industry(student_details):\n",
        "  # Extract features from the input resume\n",
        "  about_text = student_details[\"cvProfile\"][\"about\"]\n",
        "  work_experience_text = \" \".join([exp[\"jobDescription\"] for exp in student_details[\"workExperience\"]])\n",
        "  skills_text = \" \".join([skill[\"skillName\"] for skill in student_details[\"skills\"]])\n",
        "\n",
        "  # Combine all relevant text data\n",
        "  resume_text = \" \".join([about_text, work_experience_text, skills_text])\n",
        "\n",
        "  # Preprocess the combined text\n",
        "  preprocessed_text = preprocess_text(resume_text)\n",
        "\n",
        "  # Predict the suitable IT industry\n",
        "  predicted_industry = pipeline.predict([preprocessed_text])[0]\n",
        "  print(\"Predicted Industry:\", predicted_industry)"
      ],
      "metadata": {
        "id": "8KEyfs7e_9SA"
      },
      "execution_count": 14,
      "outputs": []
    },
    {
      "cell_type": "code",
      "source": [
        "# Input resume JSON data\n",
        "student_details = {\n",
        "    \"student\": {\n",
        "        \"userID\": \"2\",\n",
        "        \"firstName\": \"Jane\",\n",
        "        \"lastName\": \"Smith\",\n",
        "        \"email\": \"jane.smith@example.com\",\n",
        "        \"phone\": \"987654321\",\n",
        "        \"dob\": \"2000-05-20\",\n",
        "        \"userPassword\": \"password123\"\n",
        "    },\n",
        "    \"address\": {\n",
        "        \"addressID\": \"2\",\n",
        "        \"lineOne\": \"789\",\n",
        "        \"lineTwo\": \"Street Name\",\n",
        "        \"city\": \"New York\",\n",
        "        \"postCode\": \"10001\"\n",
        "    },\n",
        "    \"cvProfile\": {\n",
        "        \"cvID\": \"2\",\n",
        "        \"profileImg\": \"https://www.example.com/profile_image\",\n",
        "        \"about\": \"I am passionate about creating responsive and user-friendly web applications.\",\n",
        "        \"points\": 8,\n",
        "        \"gender\": \"female\"\n",
        "    },\n",
        "    \"objective\": {\n",
        "        \"objectiveID\": \"2\",\n",
        "        \"objectiveDescription\": \"I aspire to become a full-stack developer and contribute to innovative projects.\"\n",
        "    },\n",
        "    \"education\": {\n",
        "        \"educationID\": \"2\",\n",
        "        \"institution\": \"Stanford University\",\n",
        "        \"course\": \"Computer Engineering\",\n",
        "        \"startDate\": \"2019-09-01\",\n",
        "        \"endDate\": \"2023-06-01\"\n",
        "    },\n",
        "    \"skills\": [\n",
        "        {\n",
        "            \"skillID\": \"2\",\n",
        "            \"skillName\": \"JavaScript\",\n",
        "            \"skillLevel\": \"Advanced\"\n",
        "        },\n",
        "        {\n",
        "            \"skillID\": \"3\",\n",
        "            \"skillName\": \"HTML\",\n",
        "            \"skillLevel\": \"Intermediate\"\n",
        "        },\n",
        "        {\n",
        "            \"skillID\": \"4\",\n",
        "            \"skillName\": \"CSS\",\n",
        "            \"skillLevel\": \"Intermediate\"\n",
        "        },\n",
        "        {\n",
        "            \"skillID\": \"5\",\n",
        "            \"skillName\": \"Node.js\",\n",
        "            \"skillLevel\": \"Intermediate\"\n",
        "        }\n",
        "    ],\n",
        "    \"socialMedia\": [\n",
        "        {\n",
        "            \"socialMediaID\": \"2\",\n",
        "            \"socialMediaName\": \"GitHub\",\n",
        "            \"socialMediaLink\": \"https://github.com/janesmith\"\n",
        "        }\n",
        "    ],\n",
        "    \"workExperience\": [\n",
        "        {\n",
        "            \"workExperienceID\": \"3\",\n",
        "            \"companyName\": \"Apple Inc.\",\n",
        "            \"jobTitle\": \"Front-end Developer\",\n",
        "            \"startDate\": \"2020-06-01\",\n",
        "            \"endDate\": \"2022-12-31\",\n",
        "            \"jobDescription\": \"Developed user interfaces for web applications using modern front-end frameworks.\",\n",
        "            \"jobAddress\": \"Cupertino, CA\"\n",
        "        },\n",
        "        {\n",
        "            \"workExperienceID\": \"4\",\n",
        "            \"companyName\": \"Facebook\",\n",
        "            \"jobTitle\": \"Full-stack Developer\",\n",
        "            \"startDate\": \"2023-01-01\",\n",
        "            \"endDate\": \"2024-03-01\",\n",
        "            \"jobDescription\": \"Contributed to the development of various features across the entire stack of web applications.\",\n",
        "            \"jobAddress\": \"Menlo Park, CA\"\n",
        "        }\n",
        "    ],\n",
        "    \"volunteerExperience\": [\n",
        "        {\n",
        "            \"volunteerExperienceID\": \"2\",\n",
        "            \"organizationName\": \"Code for America\",\n",
        "            \"role\": \"Web Developer Volunteer\",\n",
        "            \"startDate\": \"2021-03-15\",\n",
        "            \"endDate\": \"2022-05-30\",\n",
        "            \"volunteerDescription\": \"Worked on projects aimed at using technology for social good.\"\n",
        "        }\n",
        "    ],\n",
        "    \"projects\": [\n",
        "        {\n",
        "            \"projectID\": \"2\",\n",
        "            \"projectName\": \"E-commerce Website\",\n",
        "            \"projectDescription\": \"Developed a fully functional e-commerce website using React.js for the front end and Node.js for the back end.\"\n",
        "        },\n",
        "        {\n",
        "            \"projectID\": \"3\",\n",
        "            \"projectName\": \"Portfolio Website\",\n",
        "            \"projectDescription\": \"Designed and developed a personal portfolio website to showcase skills, projects, and experience.\"\n",
        "        }\n",
        "    ]\n",
        "}\n",
        "\n",
        "getPredicted_industry(student_details)"
      ],
      "metadata": {
        "colab": {
          "base_uri": "https://localhost:8080/"
        },
        "id": "Yd2jz7U2AbwL",
        "outputId": "c03fb660-6932-432a-fd7a-89b340e19c66"
      },
      "execution_count": 19,
      "outputs": [
        {
          "output_type": "stream",
          "name": "stdout",
          "text": [
            "Predicted Industry: web\n"
          ]
        }
      ]
    }
  ]
}